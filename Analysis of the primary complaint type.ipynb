{
 "cells": [
  {
   "cell_type": "markdown",
   "metadata": {},
   "source": [
    "# Data Science and Machine Learning Capstone Project"
   ]
  },
  {
   "cell_type": "markdown",
   "metadata": {},
   "source": [
    "# Question 1: Which type of complaint should the Department of Housing Preservation and Development of New York City focus on first ?"
   ]
  },
  {
   "cell_type": "markdown",
   "metadata": {},
   "source": [
    "# Table of Contents   \n",
    "    1.Data processing\n",
    "    2.Finding most Frequent complaint\n",
    "    3.Conclusion"
   ]
  },
  {
   "cell_type": "markdown",
   "metadata": {},
   "source": [
    "### Data Proessing"
   ]
  },
  {
   "cell_type": "markdown",
   "metadata": {},
   "source": [
    "bringing in the data and libraries required for processing"
   ]
  },
  {
   "cell_type": "code",
   "execution_count": 2,
   "metadata": {},
   "outputs": [],
   "source": [
    "import pandas as pd\n",
    "import numpy as np\n",
    "%matplotlib inline\n",
    "import matplotlib as mlt\n",
    "import matplotlib.pyplot as plt"
   ]
  },
  {
   "cell_type": "markdown",
   "metadata": {},
   "source": [
    "#### analyzing the 311 HPD data set"
   ]
  },
  {
   "cell_type": "code",
   "execution_count": 3,
   "metadata": {},
   "outputs": [
    {
     "data": {
      "text/html": [
       "<div>\n",
       "<style scoped>\n",
       "    .dataframe tbody tr th:only-of-type {\n",
       "        vertical-align: middle;\n",
       "    }\n",
       "\n",
       "    .dataframe tbody tr th {\n",
       "        vertical-align: top;\n",
       "    }\n",
       "\n",
       "    .dataframe thead th {\n",
       "        text-align: right;\n",
       "    }\n",
       "</style>\n",
       "<table border=\"1\" class=\"dataframe\">\n",
       "  <thead>\n",
       "    <tr style=\"text-align: right;\">\n",
       "      <th></th>\n",
       "      <th>created_date</th>\n",
       "      <th>unique_key</th>\n",
       "      <th>complaint_type</th>\n",
       "      <th>incident_zip</th>\n",
       "      <th>incident_address</th>\n",
       "      <th>street_name</th>\n",
       "      <th>city</th>\n",
       "      <th>borough</th>\n",
       "      <th>latitude</th>\n",
       "      <th>longitude</th>\n",
       "    </tr>\n",
       "  </thead>\n",
       "  <tbody>\n",
       "    <tr>\n",
       "      <th>0</th>\n",
       "      <td>2019-11-01 07:35:46</td>\n",
       "      <td>44202740</td>\n",
       "      <td>HEAT/HOT WATER</td>\n",
       "      <td>10075.0</td>\n",
       "      <td>416 EAST   78 STREET</td>\n",
       "      <td>EAST   78 STREET</td>\n",
       "      <td>NEW YORK</td>\n",
       "      <td>MANHATTAN</td>\n",
       "      <td>40.771400</td>\n",
       "      <td>-73.952597</td>\n",
       "    </tr>\n",
       "    <tr>\n",
       "      <th>1</th>\n",
       "      <td>2019-11-01 17:17:03</td>\n",
       "      <td>44206980</td>\n",
       "      <td>ELECTRIC</td>\n",
       "      <td>10467.0</td>\n",
       "      <td>3324 PERRY AVENUE</td>\n",
       "      <td>PERRY AVENUE</td>\n",
       "      <td>BRONX</td>\n",
       "      <td>BRONX</td>\n",
       "      <td>40.877661</td>\n",
       "      <td>-73.874858</td>\n",
       "    </tr>\n",
       "    <tr>\n",
       "      <th>2</th>\n",
       "      <td>2019-11-01 12:46:43</td>\n",
       "      <td>44204492</td>\n",
       "      <td>HEAT/HOT WATER</td>\n",
       "      <td>11219.0</td>\n",
       "      <td>1254 42 STREET</td>\n",
       "      <td>42 STREET</td>\n",
       "      <td>BROOKLYN</td>\n",
       "      <td>BROOKLYN</td>\n",
       "      <td>40.639556</td>\n",
       "      <td>-73.989068</td>\n",
       "    </tr>\n",
       "    <tr>\n",
       "      <th>3</th>\n",
       "      <td>2019-11-01 05:31:13</td>\n",
       "      <td>44205138</td>\n",
       "      <td>HEAT/HOT WATER</td>\n",
       "      <td>10459.0</td>\n",
       "      <td>1116 HOE AVENUE</td>\n",
       "      <td>HOE AVENUE</td>\n",
       "      <td>BRONX</td>\n",
       "      <td>BRONX</td>\n",
       "      <td>40.826121</td>\n",
       "      <td>-73.890890</td>\n",
       "    </tr>\n",
       "    <tr>\n",
       "      <th>4</th>\n",
       "      <td>2019-11-01 07:40:20</td>\n",
       "      <td>44202027</td>\n",
       "      <td>HEAT/HOT WATER</td>\n",
       "      <td>11225.0</td>\n",
       "      <td>1700 BEDFORD AVENUE</td>\n",
       "      <td>BEDFORD AVENUE</td>\n",
       "      <td>BROOKLYN</td>\n",
       "      <td>BROOKLYN</td>\n",
       "      <td>40.665006</td>\n",
       "      <td>-73.957127</td>\n",
       "    </tr>\n",
       "  </tbody>\n",
       "</table>\n",
       "</div>"
      ],
      "text/plain": [
       "         created_date  unique_key  complaint_type  incident_zip  \\\n",
       "0 2019-11-01 07:35:46    44202740  HEAT/HOT WATER       10075.0   \n",
       "1 2019-11-01 17:17:03    44206980        ELECTRIC       10467.0   \n",
       "2 2019-11-01 12:46:43    44204492  HEAT/HOT WATER       11219.0   \n",
       "3 2019-11-01 05:31:13    44205138  HEAT/HOT WATER       10459.0   \n",
       "4 2019-11-01 07:40:20    44202027  HEAT/HOT WATER       11225.0   \n",
       "\n",
       "       incident_address       street_name      city    borough   latitude  \\\n",
       "0  416 EAST   78 STREET  EAST   78 STREET  NEW YORK  MANHATTAN  40.771400   \n",
       "1     3324 PERRY AVENUE      PERRY AVENUE     BRONX      BRONX  40.877661   \n",
       "2        1254 42 STREET         42 STREET  BROOKLYN   BROOKLYN  40.639556   \n",
       "3       1116 HOE AVENUE        HOE AVENUE     BRONX      BRONX  40.826121   \n",
       "4   1700 BEDFORD AVENUE    BEDFORD AVENUE  BROOKLYN   BROOKLYN  40.665006   \n",
       "\n",
       "   longitude  \n",
       "0 -73.952597  \n",
       "1 -73.874858  \n",
       "2 -73.989068  \n",
       "3 -73.890890  \n",
       "4 -73.957127  "
      ]
     },
     "execution_count": 3,
     "metadata": {},
     "output_type": "execute_result"
    }
   ],
   "source": [
    "columns_selected = ['created_date','unique_key','complaint_type','incident_zip','incident_address','city','borough','latitude','longitude','street_name']\n",
    "df_hpd = pd.read_csv('311.csv',parse_dates = ['created_date'],usecols=columns_selected)\n",
    "df_hpd.head(5)"
   ]
  },
  {
   "cell_type": "code",
   "execution_count": 4,
   "metadata": {},
   "outputs": [
    {
     "data": {
      "text/plain": [
       "created_date        datetime64[ns]\n",
       "unique_key                   int64\n",
       "complaint_type              object\n",
       "incident_zip               float64\n",
       "incident_address            object\n",
       "street_name                 object\n",
       "city                        object\n",
       "borough                     object\n",
       "latitude                   float64\n",
       "longitude                  float64\n",
       "dtype: object"
      ]
     },
     "execution_count": 4,
     "metadata": {},
     "output_type": "execute_result"
    }
   ],
   "source": [
    "#examining the data types of the columns\n",
    "df_hpd.dtypes"
   ]
  },
  {
   "cell_type": "code",
   "execution_count": 1,
   "metadata": {},
   "outputs": [
    {
     "ename": "NameError",
     "evalue": "name 'df_hpd' is not defined",
     "output_type": "error",
     "traceback": [
      "\u001b[0;31m---------------------------------------------------------------------------\u001b[0m",
      "\u001b[0;31mNameError\u001b[0m                                 Traceback (most recent call last)",
      "Cell \u001b[0;32mIn[1], line 2\u001b[0m\n\u001b[1;32m      1\u001b[0m \u001b[38;5;66;03m# Each column's datatypes matched, and Use the.isnull() or.notnull() functions to find any missing values in each column.\u001b[39;00m\n\u001b[0;32m----> 2\u001b[0m null_data_hpd \u001b[38;5;241m=\u001b[39m \u001b[43mdf_hpd\u001b[49m\u001b[38;5;241m.\u001b[39mnotnull()\n\u001b[1;32m      3\u001b[0m null_data_hpd\u001b[38;5;241m.\u001b[39mhead(\u001b[38;5;241m5\u001b[39m)\n",
      "\u001b[0;31mNameError\u001b[0m: name 'df_hpd' is not defined"
     ]
    }
   ],
   "source": [
    "# Each column's datatypes matched, and Use the.isnull() or.notnull() functions to find any missing values in each column.\n",
    "null_data_hpd = df_hpd.notnull()\n",
    "null_data_hpd.head(5)"
   ]
  },
  {
   "cell_type": "code",
   "execution_count": null,
   "metadata": {},
   "outputs": [],
   "source": []
  },
  {
   "cell_type": "code",
   "execution_count": 6,
   "metadata": {},
   "outputs": [
    {
     "name": "stdout",
     "output_type": "stream",
     "text": [
      "True    5892615\n",
      "Name: created_date, dtype: int64\n",
      "\n",
      "True    5892615\n",
      "Name: unique_key, dtype: int64\n",
      "\n",
      "True    5892615\n",
      "Name: complaint_type, dtype: int64\n",
      "\n",
      "True     5811990\n",
      "False      80625\n",
      "Name: incident_zip, dtype: int64\n",
      "\n",
      "True     5839784\n",
      "False      52831\n",
      "Name: incident_address, dtype: int64\n",
      "\n",
      "True     5839784\n",
      "False      52831\n",
      "Name: street_name, dtype: int64\n",
      "\n",
      "True     5812401\n",
      "False      80214\n",
      "Name: city, dtype: int64\n",
      "\n",
      "True    5892615\n",
      "Name: borough, dtype: int64\n",
      "\n",
      "True     5812016\n",
      "False      80599\n",
      "Name: latitude, dtype: int64\n",
      "\n",
      "True     5812016\n",
      "False      80599\n",
      "Name: longitude, dtype: int64\n",
      "\n"
     ]
    }
   ],
   "source": [
    "#count missing values in each column\n",
    "for column in null_data_hpd.columns.values.tolist():\n",
    "    print(null_data_hpd[column].value_counts())\n",
    "    print('')"
   ]
  },
  {
   "cell_type": "markdown",
   "metadata": {},
   "source": [
    "#### Finding Most Frequent complaint"
   ]
  },
  {
   "cell_type": "raw",
   "metadata": {},
   "source": [
    "There are no missing values in created_data, complaint_type, or unique-key.\n",
    "In order to respond to this inquiry, we must address the complaint_type field.\n",
    "Enter the name of each sort of complaint in the complaint_type column.\n",
    "Look up the number of complaints for each sort of complaint in the complaint_type column."
   ]
  },
  {
   "cell_type": "code",
   "execution_count": 12,
   "metadata": {},
   "outputs": [
    {
     "data": {
      "text/plain": [
       "HEAT/HOT WATER            1168990\n",
       "HEATING                    887869\n",
       "PLUMBING                   705513\n",
       "GENERAL CONSTRUCTION       500863\n",
       "UNSANITARY CONDITION       442858\n",
       "PAINT - PLASTER            361258\n",
       "PAINT/PLASTER              342991\n",
       "ELECTRIC                   304842\n",
       "NONCONST                   260890\n",
       "DOOR/WINDOW                201875\n",
       "WATER LEAK                 190130\n",
       "GENERAL                    148236\n",
       "FLOORING/STAIRS            136102\n",
       "APPLIANCE                  110903\n",
       "HPD Literature Request      52830\n",
       "SAFETY                      50616\n",
       "OUTSIDE BUILDING             7074\n",
       "ELEVATOR                     6555\n",
       "Unsanitary Condition         5499\n",
       "CONSTRUCTION                 5078\n",
       "General                      1163\n",
       "Safety                        424\n",
       "STRUCTURAL                     16\n",
       "Plumbing                       11\n",
       "AGENCY                          9\n",
       "VACANT APARTMENT                8\n",
       "Outside Building                6\n",
       "Appliance                       4\n",
       "Electric                        1\n",
       "Mold                            1\n",
       "Name: complaint_type, dtype: int64"
      ]
     },
     "execution_count": 12,
     "metadata": {},
     "output_type": "execute_result"
    }
   ],
   "source": [
    "\n",
    "df_hpd['complaint_type'].value_counts()"
   ]
  },
  {
   "cell_type": "code",
   "execution_count": 13,
   "metadata": {},
   "outputs": [
    {
     "data": {
      "image/png": "[encoded data removed]",
      "text/plain": [
       "<Figure size 576x720 with 1 Axes>"
      ]
     },
     "metadata": {
      "needs_background": "light"
     },
     "output_type": "display_data"
    }
   ],
   "source": [
    "#visuvalizing to verify high-complaint categories\n",
    "#keeping complaint type in df_hpd_complaint_type, a different data frame\n",
    "df_hpd_complaint_type = df_hpd['complaint_type'].value_counts()\n",
    "#storing in the same dataframe and sorting in ascending order based on the frequency of complaint kinds\n",
    "df_hpd_complaint_type.sort_values(ascending=True,inplace=True)\n",
    "#plotting using a bar graph\n",
    "df_hpd_complaint_type.plot(kind='barh',figsize=(8,10),color='green')\n",
    "plt.show()"
   ]
  },
  {
   "cell_type": "markdown",
   "metadata": {},
   "source": [
    "#### Conclusion"
   ]
  },
  {
   "cell_type": "markdown",
   "metadata": {},
   "source": [
    "##### By analyzing and visualizing HPD data, it is possible to concentrate on HEAT/HOTWATER issues, as the top 3 complaints account for 50% of the total."
   ]
  },
  {
   "cell_type": "markdown",
   "metadata": {},
   "source": [
    "#### Scripted by : Venkat Alapati"
   ]
  },
  {
   "cell_type": "code",
   "execution_count": null,
   "metadata": {},
   "outputs": [],
   "source": []
  }
 ],
 "metadata": {
  "kernelspec": {
   "display_name": "Python 3 (ipykernel)",
   "language": "python",
   "name": "python3"
  },
  "language_info": {
   "codemirror_mode": {
    "name": "ipython",
    "version": 3
   },
   "file_extension": ".py",
   "mimetype": "text/x-python",
   "name": "python",
   "nbconvert_exporter": "python",
   "pygments_lexer": "ipython3",
   "version": "3.11.8"
  }
 },
 "nbformat": 4,
 "nbformat_minor": 4
}
